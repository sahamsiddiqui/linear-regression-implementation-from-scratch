{
 "cells": [
  {
   "cell_type": "code",
   "execution_count": null,
   "metadata": {},
   "outputs": [],
   "source": [
    "###################  IMPLEMENTATION OF LINER REGRESSION  (SCRATCH)    #################################"
   ]
  },
  {
   "cell_type": "code",
   "execution_count": 1,
   "metadata": {},
   "outputs": [],
   "source": [
    "import numpy as np\n",
    "import pandas as pd\n",
    "import matplotlib.pyplot as plt\n",
    "import statistics "
   ]
  },
  {
   "cell_type": "code",
   "execution_count": 31,
   "metadata": {},
   "outputs": [],
   "source": [
    " # 1. FIT                 # linear Model :   Y = aX + b         [ fit model = find a and b ]\n",
    "def linearfit(X,Y):\n",
    "    n = len(X)\n",
    "    xmean = statistics.mean(X)\n",
    "    ymean = statistics.mean(Y)\n",
    "    #  * calculating \"a\"\n",
    "    numr = 0\n",
    "    denom = 0\n",
    "    for i in range(n):\n",
    "        numr += ((X[i]*xmean) *(Y[i]*ymean))  # ---> Covarience of (X,Y)\n",
    "        denom += (X[i]*xmean)**2    #-------> denominator is \"varience\" of X's distribution\n",
    "    a = numr/denom\n",
    "    b = ymean - (a*xmean)\n",
    "    \n",
    "    return (a,b)"
   ]
  },
  {
   "cell_type": "code",
   "execution_count": 32,
   "metadata": {},
   "outputs": [],
   "source": [
    "# 2. PREDICT\n",
    "def predict(coeffvals,Xtest):  # coeffvals is the Linear model [ i.e contains best coeff values for model line]\n",
    "    a,b = coeffvals\n",
    "    Ycap = []\n",
    "    for i in range(len(Xtest)):\n",
    "        Ycap.append( b + a * Xtest[i]) \n",
    "    return Ycap\n",
    "        "
   ]
  },
  {
   "cell_type": "code",
   "execution_count": 33,
   "metadata": {},
   "outputs": [],
   "source": [
    "# 3. evaluate\n",
    "\n",
    "def rmse(ytrue , ycap):   #scale dependent\n",
    "    summation =0\n",
    "    n = len(ytrue)\n",
    "    for i in range(n):\n",
    "        summation += (ytrue[i] - ycap[i])**2\n",
    "        dist = (summation/n)**0.5\n",
    "    \n",
    "    return dist\n",
    "\n",
    "def r_square(ytrue , ycap):    #scale invarient\n",
    "    ssr = 0\n",
    "    sst = 0\n",
    "    ymean = statistics.mean(ytrue)\n",
    "    for i in range(len(ytrue)):\n",
    "        ssr += (ycap[i] - ymean)**2\n",
    "        sst += (ytrue[i] - ymean)**2\n",
    "        error = ssr/sst\n",
    "    return error"
   ]
  },
  {
   "cell_type": "code",
   "execution_count": 16,
   "metadata": {},
   "outputs": [
    {
     "name": "stdout",
     "output_type": "stream",
     "text": [
      "Dataset view : \n",
      "    Gender  Age Range  Head Size(cm^3)  Brain Weight(grams)\n",
      "0       1          1             4512                 1530\n",
      "1       1          1             3738                 1297\n",
      "2       1          1             4261                 1335\n",
      "3       1          1             3777                 1282\n",
      "4       1          1             4177                 1590\n",
      "5       1          1             3585                 1300\n",
      "6       1          1             3785                 1400\n",
      "7       1          1             3559                 1255 \n",
      "\n",
      "Dataset dimension =  (237, 4) \n",
      "\n",
      "Independent variables in Data = \n",
      " Index(['Gender', 'Age Range', 'Head Size(cm^3)', 'Brain Weight(grams)'], dtype='object') \n",
      "\n",
      "Dataset summary : \n",
      "            Gender   Age Range  Head Size(cm^3)  Brain Weight(grams)\n",
      "count  237.000000  237.000000       237.000000           237.000000\n",
      "mean     1.434599    1.535865      3633.991561          1282.873418\n",
      "std      0.496753    0.499768       365.261422           120.340446\n",
      "min      1.000000    1.000000      2720.000000           955.000000\n",
      "25%      1.000000    1.000000      3389.000000          1207.000000\n",
      "50%      1.000000    2.000000      3614.000000          1280.000000\n",
      "75%      2.000000    2.000000      3876.000000          1350.000000\n",
      "max      2.000000    2.000000      4747.000000          1635.000000 \n",
      "\n",
      "Dataset covarien : \n",
      "                         Gender  Age Range  Head Size(cm^3)  \\\n",
      "Gender                0.246764  -0.022009       -93.271741   \n",
      "Age Range            -0.022009   0.249768       -19.245459   \n",
      "Head Size(cm^3)     -93.271741 -19.245459    133415.906708   \n",
      "Brain Weight(grams) -27.813398 -10.190356     35145.664182   \n",
      "\n",
      "                     Brain Weight(grams)  \n",
      "Gender                        -27.813398  \n",
      "Age Range                     -10.190356  \n",
      "Head Size(cm^3)             35145.664182  \n",
      "Brain Weight(grams)         14481.822892   \n",
      "\n",
      "Dataset data types : \n",
      " Gender                 int64\n",
      "Age Range              int64\n",
      "Head Size(cm^3)        int64\n",
      "Brain Weight(grams)    int64\n",
      "dtype: object \n",
      "\n"
     ]
    }
   ],
   "source": [
    "# test our model with an example\n",
    "\n",
    "headbraindata  = pd.read_csv(\"C:\\\\Users\\\\saham\\\\pythonprograms\\\\headbrain.csv\")\n",
    "\n",
    "print(\"Dataset view : \\n\",headbraindata.head(8),\"\\n\")\n",
    "print(\"Dataset dimension = \",headbraindata.shape,\"\\n\")\n",
    "# let head size be X, and predict brain weight Y\n",
    "print(\"Independent variables in Data = \\n\",headbraindata.columns,\"\\n\")\n",
    "print(\"Dataset summary : \\n\",headbraindata.describe(),\"\\n\")\n",
    "print(\"Dataset covarien : \\n\",headbraindata.cov(),\"\\n\")\n",
    "print(\"Dataset data types : \\n\",headbraindata.dtypes,\"\\n\")"
   ]
  },
  {
   "cell_type": "code",
   "execution_count": 7,
   "metadata": {},
   "outputs": [],
   "source": [
    "X = headbraindata['Head Size(cm^3)'].values\n",
    "Y = headbraindata['Brain Weight(grams)'].values\n",
    "\n",
    "## test and train data\n",
    "len(X)\n",
    "xtrain = X[:200]\n",
    "ytrain = Y[:200]\n",
    "\n"
   ]
  },
  {
   "cell_type": "code",
   "execution_count": 43,
   "metadata": {},
   "outputs": [],
   "source": [
    "xtest = X[200:]\n",
    "ytest = Y[200:]"
   ]
  },
  {
   "cell_type": "code",
   "execution_count": 44,
   "metadata": {},
   "outputs": [
    {
     "name": "stdout",
     "output_type": "stream",
     "text": [
      "xtrain =  200   xtest =  37   X =   237\n"
     ]
    }
   ],
   "source": [
    "print(\"xtrain = \",len(xtrain),\"  xtest = \",len(xtest), \"  X =  \",len(X))"
   ]
  },
  {
   "cell_type": "code",
   "execution_count": 45,
   "metadata": {},
   "outputs": [
    {
     "name": "stdout",
     "output_type": "stream",
     "text": [
      "RMSE =  104.25466559368354\n",
      "r square =  0.5146584952628586\n"
     ]
    }
   ],
   "source": [
    "lm = linearfit(xtrain ,ytrain)\n",
    "predictions_y = predict(lm,xtest)\n",
    "\n",
    "rms = rmse(ytest,predictions_y)\n",
    "print(\"RMSE = \",rms)\n",
    "r2 = r_square(ytest , predictions_y)\n",
    "print(\"r square = \",r2)"
   ]
  },
  {
   "cell_type": "code",
   "execution_count": 52,
   "metadata": {},
   "outputs": [
    {
     "data": {
      "text/plain": [
       "[<matplotlib.lines.Line2D at 0x26a7b476708>]"
      ]
     },
     "execution_count": 52,
     "metadata": {},
     "output_type": "execute_result"
    },
    {
     "data": {
      "image/png": "[encoded data removed]",
      "text/plain": [
       "<Figure size 432x288 with 1 Axes>"
      ]
     },
     "metadata": {
      "needs_background": "light"
     },
     "output_type": "display_data"
    }
   ],
   "source": [
    "plt.scatter(X,Y)\n",
    "plt.plot(xtest,predictions_y,'r')"
   ]
  }
 ],
 "metadata": {
  "kernelspec": {
   "display_name": "Python 3",
   "language": "python",
   "name": "python3"
  },
  "language_info": {
   "codemirror_mode": {
    "name": "ipython",
    "version": 3
   },
   "file_extension": ".py",
   "mimetype": "text/x-python",
   "name": "python",
   "nbconvert_exporter": "python",
   "pygments_lexer": "ipython3",
   "version": "3.7.4"
  }
 },
 "nbformat": 4,
 "nbformat_minor": 2
}
